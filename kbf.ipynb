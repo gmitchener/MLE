{
 "cells": [
  {
   "cell_type": "code",
   "execution_count": 3,
   "metadata": {},
   "outputs": [],
   "source": [
    "import kfp\n",
    "import kfp.dsl as dsl\n",
    "from kfp.v2.dsl import (\n",
    "    component,\n",
    "    Input,\n",
    "    Output,\n",
    "    Dataset,\n",
    "    Metrics,\n",
    "    pipeline,\n",
    "    Artifact,\n",
    ")"
   ]
  },
  {
   "cell_type": "code",
   "execution_count": null,
   "metadata": {},
   "outputs": [],
   "source": [
    "def drop_cols(df, cols_to_drop):\n",
    "    df = df.drop(cols_to_drop, axis=1)\n",
    "    return df"
   ]
  },
  {
   "cell_type": "code",
   "execution_count": 4,
   "metadata": {},
   "outputs": [],
   "source": [
    "@component(packages_to_install=['pandas'])\n",
    "def drop_cols(df_artifact: Input[Artifact], cols_to_drop_string: str, output_artifact: Output[Artifact])->None:\n",
    "    import pandas as pd \n",
    "    import json \n",
    "    cols_to_drop = json.loads(cols_to_drop_string)\n",
    "    df = pd.read_csv(df_artifact.path)\n",
    "    df = df.drop(cols_to_drop, axis=1)\n",
    "    df.to_csv(output_artifact.path)"
   ]
  },
  {
   "cell_type": "code",
   "execution_count": null,
   "metadata": {},
   "outputs": [],
   "source": [
    "@component(packages_to_install = ['google-cloud-storage']\n",
    ")\n",
    "def download_gcs_file(\n",
    "project : str,\n",
    "bucket : str,\n",
    "filepath : str,\n",
    "output_file : Output[Artifact]\n",
    ") -> None:\n",
    "'''Downloads a file from GCS to a KFP Artifact component'''\n",
    "from google.cloud import storage\n",
    "\n",
    "client = storage.Client(project = project)\n",
    "bucket = client.get_bucket(bucket)\n",
    "blob = bucket.blob(filepath)\n",
    "\n",
    "blob.download_to_filename(output_file.path)"
   ]
  },
  {
   "cell_type": "code",
   "execution_count": null,
   "metadata": {},
   "outputs": [],
   "source": [
    "@pipeline('titanic_pipeline')\n",
    "def create_pipleine(cols_to_drop_string: str):\n",
    "    download_gcs_file_op = download_gcs_file(project_string, bukcet_string, filepath_string)\n",
    "\n",
    "    drop_cols_op = drop_cols(download_gcs_file_op.output, cols_to_drop_string)\n",
    "    "
   ]
  }
 ],
 "metadata": {
  "interpreter": {
   "hash": "9fec3ab36716fe125c1a0073683c6433cb45ee410fe515abe8040210eb6e3016"
  },
  "kernelspec": {
   "display_name": "Python 3.8.8 64-bit ('base': conda)",
   "language": "python",
   "name": "python3"
  },
  "language_info": {
   "codemirror_mode": {
    "name": "ipython",
    "version": 3
   },
   "file_extension": ".py",
   "mimetype": "text/x-python",
   "name": "python",
   "nbconvert_exporter": "python",
   "pygments_lexer": "ipython3",
   "version": "3.9.7"
  },
  "orig_nbformat": 4
 },
 "nbformat": 4,
 "nbformat_minor": 2
}
